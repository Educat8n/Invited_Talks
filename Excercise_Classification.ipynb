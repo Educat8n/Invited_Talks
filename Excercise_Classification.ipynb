{
  "nbformat": 4,
  "nbformat_minor": 0,
  "metadata": {
    "colab": {
      "name": "Excercise_Classification.ipynb",
      "provenance": [],
      "toc_visible": true,
      "mount_file_id": "1Hx2OjLbdwQKQNrKt-HhXtRJo2h5VoOwR",
      "authorship_tag": "ABX9TyPq2M9hmyVluvD7/2EKP9td",
      "include_colab_link": true
    },
    "kernelspec": {
      "name": "python3",
      "display_name": "Python 3"
    },
    "accelerator": "GPU"
  },
  "cells": [
    {
      "cell_type": "markdown",
      "metadata": {
        "id": "view-in-github",
        "colab_type": "text"
      },
      "source": [
        "<a href=\"https://colab.research.google.com/github/amita-kapoor/Invited_Talks/blob/master/Excercise_Classification.ipynb\" target=\"_parent\"><img src=\"https://colab.research.google.com/assets/colab-badge.svg\" alt=\"Open In Colab\"/></a>"
      ]
    },
    {
      "cell_type": "markdown",
      "metadata": {
        "id": "rZDq2nwZp2dv",
        "colab_type": "text"
      },
      "source": [
        "## Classification Exercises\n",
        "\n",
        "For these exercises use the GPU in Google Colab. To enable GPU go to top menu bar in **EDIT** menu go to **NoteBook Settings**. Once you click it a window opens, in the hardware accelerator dropdown menu choose GPU. \n",
        "\n",
        "![alt](https://drive.google.com/uc?id=1rZf9pvb5rqY4rFwYqUhdmPkSrzaXBhPg)\n",
        "### Part 1: Building the model\n",
        "Below we define a function to built a neural network model using TensorFlow Keras. "
      ]
    },
    {
      "cell_type": "code",
      "metadata": {
        "id": "3mhZ0xlMRqO6",
        "colab_type": "code",
        "colab": {}
      },
      "source": [
        "import tensorflow as tf\n",
        "import numpy as np\n",
        "from tensorflow import keras\n",
        "\n",
        "def built_model(input_shape, n_hidden, nb_classes, optimizer='SGD'):\n",
        "  model = tf.keras.models.Sequential()\n",
        "  model.add(keras.layers.Dense(n_hidden,\n",
        "       input_shape=(input_shape,),\n",
        "       name='dense_layer', activation='relu'))\n",
        "  model.add(keras.layers.Dense(n_hidden,\n",
        "        name='dense_layer_2', activation='relu'))\n",
        "  model.add(keras.layers.Dense(nb_classes,\n",
        "        name='dense_layer_3', activation='softmax'))\n",
        "  model.compile(optimizer=optimizer, \n",
        "              loss='categorical_crossentropy',\n",
        "              metrics=['accuracy'])\n",
        "  return model\n"
      ],
      "execution_count": 0,
      "outputs": []
    },
    {
      "cell_type": "markdown",
      "metadata": {
        "id": "q5E0fCSDrwu_",
        "colab_type": "text"
      },
      "source": [
        "**Exercise 1** What should be the values of the arguments `INPUT_SHAPE`: the number of input units, `N_HIDDEN`: the number of hidden units, and `NB_CLASSES`: the number of output units, if we want to build a model using `built_model` function with the specifications given in the figure:\n",
        "\n",
        "![](https://drive.google.com/uc?id=1pcj2sHJK6CmhMjUo43AMNBxnU4ixQne3)\n",
        "\n"
      ]
    },
    {
      "cell_type": "code",
      "metadata": {
        "id": "sBfRdV8ARuCe",
        "colab_type": "code",
        "colab": {}
      },
      "source": [
        "# Task to do\n",
        "INPUT_SHAPE = 5#?\n",
        "N_HIDDEN = 10#?\n",
        "NB_CLASSES = 2#?  \n",
        "\n",
        "assert(INPUT_SHAPE == 5), \"Input shape incorrect\"\n",
        "assert(N_HIDDEN == 10), \"Number of hidden neurons incorrect\"\n",
        "assert(NB_CLASSES == 2), \"Number of output units incorrect\""
      ],
      "execution_count": 0,
      "outputs": []
    },
    {
      "cell_type": "code",
      "metadata": {
        "id": "s00urUTcqfZR",
        "colab_type": "code",
        "colab": {}
      },
      "source": [
        "model = built_model(INPUT_SHAPE, N_HIDDEN,NB_CLASSES)"
      ],
      "execution_count": 0,
      "outputs": []
    },
    {
      "cell_type": "markdown",
      "metadata": {
        "id": "mTccrPMNyZF5",
        "colab_type": "text"
      },
      "source": [
        "**Exercise 2** Based on the input, hidden and output units what are the total number of trainable parameters in this model?"
      ]
    },
    {
      "cell_type": "code",
      "metadata": {
        "id": "3DchkRcAyXM6",
        "colab_type": "code",
        "colab": {
          "base_uri": "https://localhost:8080/",
          "height": 34
        },
        "outputId": "49c57b2b-e82e-49e6-af63-f2631eeed4f8"
      },
      "source": [
        "# Task to do\n",
        "trainable_parameters = 192#?\n",
        "\n",
        "assert trainable_parameters==model.count_params(), \"Your answer is incorrect\"\n",
        "print(\"Number of trainable parameters in the model are\", trainable_parameters)"
      ],
      "execution_count": 4,
      "outputs": [
        {
          "output_type": "stream",
          "text": [
            "Number of trainable parameters in the model are 192\n"
          ],
          "name": "stdout"
        }
      ]
    },
    {
      "cell_type": "markdown",
      "metadata": {
        "id": "g33IqZrGzLeW",
        "colab_type": "text"
      },
      "source": [
        "Good work! Let us now visualize the summary of the model created. "
      ]
    },
    {
      "cell_type": "code",
      "metadata": {
        "id": "f4OteoBfx_QH",
        "colab_type": "code",
        "colab": {
          "base_uri": "https://localhost:8080/",
          "height": 260
        },
        "outputId": "d1dde419-7d75-479f-d13c-6afaa66ff997"
      },
      "source": [
        "model.summary()"
      ],
      "execution_count": 5,
      "outputs": [
        {
          "output_type": "stream",
          "text": [
            "Model: \"sequential\"\n",
            "_________________________________________________________________\n",
            "Layer (type)                 Output Shape              Param #   \n",
            "=================================================================\n",
            "dense_layer (Dense)          (None, 10)                60        \n",
            "_________________________________________________________________\n",
            "dense_layer_2 (Dense)        (None, 10)                110       \n",
            "_________________________________________________________________\n",
            "dense_layer_3 (Dense)        (None, 2)                 22        \n",
            "=================================================================\n",
            "Total params: 192\n",
            "Trainable params: 192\n",
            "Non-trainable params: 0\n",
            "_________________________________________________________________\n"
          ],
          "name": "stdout"
        }
      ]
    },
    {
      "cell_type": "markdown",
      "metadata": {
        "id": "2qeqEE5A3MQl",
        "colab_type": "text"
      },
      "source": [
        "### Part 2: Reading the dataset\n",
        "\n",
        "We will continue with the MNIST dataset. "
      ]
    },
    {
      "cell_type": "code",
      "metadata": {
        "id": "D3OEjwzLyBoO",
        "colab_type": "code",
        "colab": {
          "base_uri": "https://localhost:8080/",
          "height": 52
        },
        "outputId": "6e648eef-89aa-404d-c480-fa93b6e941eb"
      },
      "source": [
        "mnist = keras.datasets.mnist\n",
        "(X_train, Y_train), (X_test, Y_test) = mnist.load_data()"
      ],
      "execution_count": 6,
      "outputs": [
        {
          "output_type": "stream",
          "text": [
            "Downloading data from https://storage.googleapis.com/tensorflow/tf-keras-datasets/mnist.npz\n",
            "11493376/11490434 [==============================] - 0s 0us/step\n"
          ],
          "name": "stdout"
        }
      ]
    },
    {
      "cell_type": "code",
      "metadata": {
        "id": "94uZnloL4-lB",
        "colab_type": "code",
        "colab": {}
      },
      "source": [
        "# Processing the data\n",
        "assert(len(X_train.shape)==3), \"The input data is not of the right shape\"\n",
        "RESHAPED = X_train.shape[1]*X_train.shape[2]\n",
        "\n",
        "X_train = X_train.reshape(60000, RESHAPED)\n",
        "X_test = X_test.reshape(10000, RESHAPED)\n",
        "X_train = X_train.astype('float32')\n",
        "X_test = X_test.astype('float32')"
      ],
      "execution_count": 0,
      "outputs": []
    },
    {
      "cell_type": "code",
      "metadata": {
        "id": "BJIMT6sT5Wtd",
        "colab_type": "code",
        "colab": {
          "base_uri": "https://localhost:8080/",
          "height": 52
        },
        "outputId": "58213260-28d4-470a-83c0-0060dfd1e857"
      },
      "source": [
        "# Data Normalization\n",
        "X_train, X_test = X_train / 255.0, X_test / 255.0\n",
        "print(X_train.shape[0], 'train samples')\n",
        "print(X_test.shape[0], 'test samples')"
      ],
      "execution_count": 8,
      "outputs": [
        {
          "output_type": "stream",
          "text": [
            "60000 train samples\n",
            "10000 test samples\n"
          ],
          "name": "stdout"
        }
      ]
    },
    {
      "cell_type": "code",
      "metadata": {
        "id": "gD28OYpn8XBt",
        "colab_type": "code",
        "colab": {}
      },
      "source": [
        ""
      ],
      "execution_count": 0,
      "outputs": []
    },
    {
      "cell_type": "markdown",
      "metadata": {
        "id": "HIRrNUTj4h_R",
        "colab_type": "text"
      },
      "source": [
        "For the MNIST dataset the number of input and number of output units are fixed. However we can choose different values of hidden units. "
      ]
    },
    {
      "cell_type": "code",
      "metadata": {
        "id": "si1FflpL3_hj",
        "colab_type": "code",
        "colab": {}
      },
      "source": [
        "INPUT_SHAPE = RESHAPED\n",
        "NB_CLASSES = len(set(Y_train))"
      ],
      "execution_count": 0,
      "outputs": []
    },
    {
      "cell_type": "code",
      "metadata": {
        "id": "ISwN58Q48a03",
        "colab_type": "code",
        "colab": {}
      },
      "source": [
        "# one-hot encode\n",
        "Y_train = tf.keras.utils.to_categorical(Y_train, NB_CLASSES)\n",
        "Y_test = tf.keras.utils.to_categorical(Y_test, NB_CLASSES)"
      ],
      "execution_count": 0,
      "outputs": []
    },
    {
      "cell_type": "markdown",
      "metadata": {
        "id": "-gjEx-hQ6Xsv",
        "colab_type": "text"
      },
      "source": [
        "### Part 3: Hyperparameters\n",
        "**Exercise 3:** The aim of this exercise is to understand the affect of changing number of hidden units on the model performance. Change the number of hidden units, and train the model. Compare the model performance in terms of accuracy. What do you understand from this?"
      ]
    },
    {
      "cell_type": "markdown",
      "metadata": {
        "id": "MWggLtWe7MUR",
        "colab_type": "text"
      },
      "source": [
        "**Answer** Please type your answer here (Double click to edit)"
      ]
    },
    {
      "cell_type": "code",
      "metadata": {
        "id": "qscy8jLk6BEA",
        "colab_type": "code",
        "colab": {}
      },
      "source": [
        "# Task to do choose different values for number of hidden units (minimum five different values)\n",
        "N_HIDDEN = 128 #? Choose a value"
      ],
      "execution_count": 0,
      "outputs": []
    },
    {
      "cell_type": "code",
      "metadata": {
        "id": "9yG8aKH37krD",
        "colab_type": "code",
        "colab": {
          "base_uri": "https://localhost:8080/",
          "height": 1000
        },
        "outputId": "253ef826-16cf-44d2-ee0d-4f4ea952f9e4"
      },
      "source": [
        "model = built_model(INPUT_SHAPE,N_HIDDEN, NB_CLASSES)\n",
        "history = model.fit(X_train, Y_train,\n",
        "\t\tbatch_size=128, epochs=50,\n",
        "\t\tverbose=1, validation_split=0.2)"
      ],
      "execution_count": 12,
      "outputs": [
        {
          "output_type": "stream",
          "text": [
            "Epoch 1/50\n",
            "375/375 [==============================] - 2s 5ms/step - loss: 1.4874 - accuracy: 0.6345 - val_loss: 0.7550 - val_accuracy: 0.8360\n",
            "Epoch 2/50\n",
            "375/375 [==============================] - 1s 4ms/step - loss: 0.5983 - accuracy: 0.8518 - val_loss: 0.4594 - val_accuracy: 0.8785\n",
            "Epoch 3/50\n",
            "375/375 [==============================] - 2s 4ms/step - loss: 0.4392 - accuracy: 0.8825 - val_loss: 0.3765 - val_accuracy: 0.8965\n",
            "Epoch 4/50\n",
            "375/375 [==============================] - 1s 4ms/step - loss: 0.3794 - accuracy: 0.8948 - val_loss: 0.3383 - val_accuracy: 0.9056\n",
            "Epoch 5/50\n",
            "375/375 [==============================] - 1s 4ms/step - loss: 0.3454 - accuracy: 0.9024 - val_loss: 0.3143 - val_accuracy: 0.9099\n",
            "Epoch 6/50\n",
            "375/375 [==============================] - 1s 4ms/step - loss: 0.3221 - accuracy: 0.9082 - val_loss: 0.2963 - val_accuracy: 0.9149\n",
            "Epoch 7/50\n",
            "375/375 [==============================] - 1s 4ms/step - loss: 0.3041 - accuracy: 0.9135 - val_loss: 0.2841 - val_accuracy: 0.9179\n",
            "Epoch 8/50\n",
            "375/375 [==============================] - 1s 4ms/step - loss: 0.2900 - accuracy: 0.9176 - val_loss: 0.2711 - val_accuracy: 0.9213\n",
            "Epoch 9/50\n",
            "375/375 [==============================] - 1s 4ms/step - loss: 0.2773 - accuracy: 0.9211 - val_loss: 0.2610 - val_accuracy: 0.9237\n",
            "Epoch 10/50\n",
            "375/375 [==============================] - 1s 4ms/step - loss: 0.2671 - accuracy: 0.9240 - val_loss: 0.2519 - val_accuracy: 0.9260\n",
            "Epoch 11/50\n",
            "375/375 [==============================] - 1s 4ms/step - loss: 0.2569 - accuracy: 0.9272 - val_loss: 0.2455 - val_accuracy: 0.9293\n",
            "Epoch 12/50\n",
            "375/375 [==============================] - 1s 4ms/step - loss: 0.2487 - accuracy: 0.9299 - val_loss: 0.2373 - val_accuracy: 0.9312\n",
            "Epoch 13/50\n",
            "375/375 [==============================] - 1s 4ms/step - loss: 0.2408 - accuracy: 0.9317 - val_loss: 0.2307 - val_accuracy: 0.9333\n",
            "Epoch 14/50\n",
            "375/375 [==============================] - 1s 4ms/step - loss: 0.2333 - accuracy: 0.9347 - val_loss: 0.2250 - val_accuracy: 0.9354\n",
            "Epoch 15/50\n",
            "375/375 [==============================] - 1s 4ms/step - loss: 0.2264 - accuracy: 0.9359 - val_loss: 0.2195 - val_accuracy: 0.9373\n",
            "Epoch 16/50\n",
            "375/375 [==============================] - 1s 4ms/step - loss: 0.2199 - accuracy: 0.9383 - val_loss: 0.2142 - val_accuracy: 0.9379\n",
            "Epoch 17/50\n",
            "375/375 [==============================] - 1s 4ms/step - loss: 0.2135 - accuracy: 0.9399 - val_loss: 0.2100 - val_accuracy: 0.9398\n",
            "Epoch 18/50\n",
            "375/375 [==============================] - 1s 4ms/step - loss: 0.2079 - accuracy: 0.9416 - val_loss: 0.2050 - val_accuracy: 0.9418\n",
            "Epoch 19/50\n",
            "375/375 [==============================] - 1s 4ms/step - loss: 0.2024 - accuracy: 0.9424 - val_loss: 0.2003 - val_accuracy: 0.9433\n",
            "Epoch 20/50\n",
            "375/375 [==============================] - 1s 4ms/step - loss: 0.1969 - accuracy: 0.9444 - val_loss: 0.1958 - val_accuracy: 0.9451\n",
            "Epoch 21/50\n",
            "375/375 [==============================] - 1s 4ms/step - loss: 0.1917 - accuracy: 0.9458 - val_loss: 0.1921 - val_accuracy: 0.9459\n",
            "Epoch 22/50\n",
            "375/375 [==============================] - 1s 4ms/step - loss: 0.1869 - accuracy: 0.9474 - val_loss: 0.1887 - val_accuracy: 0.9467\n",
            "Epoch 23/50\n",
            "375/375 [==============================] - 2s 4ms/step - loss: 0.1821 - accuracy: 0.9481 - val_loss: 0.1845 - val_accuracy: 0.9478\n",
            "Epoch 24/50\n",
            "375/375 [==============================] - 1s 4ms/step - loss: 0.1778 - accuracy: 0.9494 - val_loss: 0.1813 - val_accuracy: 0.9479\n",
            "Epoch 25/50\n",
            "375/375 [==============================] - 2s 4ms/step - loss: 0.1732 - accuracy: 0.9502 - val_loss: 0.1772 - val_accuracy: 0.9499\n",
            "Epoch 26/50\n",
            "375/375 [==============================] - 2s 4ms/step - loss: 0.1690 - accuracy: 0.9522 - val_loss: 0.1765 - val_accuracy: 0.9496\n",
            "Epoch 27/50\n",
            "375/375 [==============================] - 1s 4ms/step - loss: 0.1652 - accuracy: 0.9528 - val_loss: 0.1729 - val_accuracy: 0.9511\n",
            "Epoch 28/50\n",
            "375/375 [==============================] - 2s 4ms/step - loss: 0.1613 - accuracy: 0.9540 - val_loss: 0.1692 - val_accuracy: 0.9513\n",
            "Epoch 29/50\n",
            "375/375 [==============================] - 1s 4ms/step - loss: 0.1577 - accuracy: 0.9544 - val_loss: 0.1672 - val_accuracy: 0.9517\n",
            "Epoch 30/50\n",
            "375/375 [==============================] - 2s 4ms/step - loss: 0.1540 - accuracy: 0.9559 - val_loss: 0.1645 - val_accuracy: 0.9531\n",
            "Epoch 31/50\n",
            "375/375 [==============================] - 1s 4ms/step - loss: 0.1505 - accuracy: 0.9569 - val_loss: 0.1622 - val_accuracy: 0.9541\n",
            "Epoch 32/50\n",
            "375/375 [==============================] - 1s 4ms/step - loss: 0.1473 - accuracy: 0.9581 - val_loss: 0.1597 - val_accuracy: 0.9542\n",
            "Epoch 33/50\n",
            "375/375 [==============================] - 1s 4ms/step - loss: 0.1441 - accuracy: 0.9586 - val_loss: 0.1566 - val_accuracy: 0.9557\n",
            "Epoch 34/50\n",
            "375/375 [==============================] - 1s 4ms/step - loss: 0.1409 - accuracy: 0.9600 - val_loss: 0.1547 - val_accuracy: 0.9563\n",
            "Epoch 35/50\n",
            "375/375 [==============================] - 1s 4ms/step - loss: 0.1381 - accuracy: 0.9605 - val_loss: 0.1531 - val_accuracy: 0.9562\n",
            "Epoch 36/50\n",
            "375/375 [==============================] - 1s 4ms/step - loss: 0.1349 - accuracy: 0.9614 - val_loss: 0.1534 - val_accuracy: 0.9559\n",
            "Epoch 37/50\n",
            "375/375 [==============================] - 2s 4ms/step - loss: 0.1323 - accuracy: 0.9624 - val_loss: 0.1494 - val_accuracy: 0.9572\n",
            "Epoch 38/50\n",
            "375/375 [==============================] - 2s 4ms/step - loss: 0.1296 - accuracy: 0.9636 - val_loss: 0.1472 - val_accuracy: 0.9578\n",
            "Epoch 39/50\n",
            "375/375 [==============================] - 1s 4ms/step - loss: 0.1270 - accuracy: 0.9639 - val_loss: 0.1448 - val_accuracy: 0.9581\n",
            "Epoch 40/50\n",
            "375/375 [==============================] - 1s 4ms/step - loss: 0.1242 - accuracy: 0.9652 - val_loss: 0.1438 - val_accuracy: 0.9589\n",
            "Epoch 41/50\n",
            "375/375 [==============================] - 1s 4ms/step - loss: 0.1222 - accuracy: 0.9651 - val_loss: 0.1409 - val_accuracy: 0.9597\n",
            "Epoch 42/50\n",
            "375/375 [==============================] - 1s 4ms/step - loss: 0.1198 - accuracy: 0.9658 - val_loss: 0.1397 - val_accuracy: 0.9597\n",
            "Epoch 43/50\n",
            "375/375 [==============================] - 1s 4ms/step - loss: 0.1172 - accuracy: 0.9667 - val_loss: 0.1387 - val_accuracy: 0.9597\n",
            "Epoch 44/50\n",
            "375/375 [==============================] - 2s 4ms/step - loss: 0.1152 - accuracy: 0.9673 - val_loss: 0.1367 - val_accuracy: 0.9606\n",
            "Epoch 45/50\n",
            "375/375 [==============================] - 2s 4ms/step - loss: 0.1131 - accuracy: 0.9682 - val_loss: 0.1358 - val_accuracy: 0.9604\n",
            "Epoch 46/50\n",
            "375/375 [==============================] - 1s 4ms/step - loss: 0.1109 - accuracy: 0.9689 - val_loss: 0.1338 - val_accuracy: 0.9620\n",
            "Epoch 47/50\n",
            "375/375 [==============================] - 2s 4ms/step - loss: 0.1089 - accuracy: 0.9692 - val_loss: 0.1321 - val_accuracy: 0.9617\n",
            "Epoch 48/50\n",
            "375/375 [==============================] - 2s 4ms/step - loss: 0.1069 - accuracy: 0.9695 - val_loss: 0.1307 - val_accuracy: 0.9627\n",
            "Epoch 49/50\n",
            "375/375 [==============================] - 2s 4ms/step - loss: 0.1050 - accuracy: 0.9704 - val_loss: 0.1299 - val_accuracy: 0.9628\n",
            "Epoch 50/50\n",
            "375/375 [==============================] - 2s 4ms/step - loss: 0.1031 - accuracy: 0.9711 - val_loss: 0.1287 - val_accuracy: 0.9637\n"
          ],
          "name": "stdout"
        }
      ]
    },
    {
      "cell_type": "code",
      "metadata": {
        "id": "1Jt40iXW8Iig",
        "colab_type": "code",
        "colab": {
          "base_uri": "https://localhost:8080/",
          "height": 52
        },
        "outputId": "4d8d70b5-fb7a-4fec-a260-90769a158e7f"
      },
      "source": [
        "# Evaluate the model\n",
        "test_loss, test_acc = model.evaluate(X_test, Y_test)\n",
        "print('Test accuracy: {:.2f} %'.format(test_acc*100))"
      ],
      "execution_count": 17,
      "outputs": [
        {
          "output_type": "stream",
          "text": [
            "313/313 [==============================] - 1s 3ms/step - loss: 0.1194 - accuracy: 0.9644\n",
            "Test accuracy: 96.44 %\n"
          ],
          "name": "stdout"
        }
      ]
    },
    {
      "cell_type": "markdown",
      "metadata": {
        "id": "cqfMXnlJA02g",
        "colab_type": "text"
      },
      "source": [
        "**Exercise 4:** Let us now repeat the same after changing the batch size (minimum 5 different values). Compare the model performance in terms of accuracy. What do you understand from this?"
      ]
    },
    {
      "cell_type": "markdown",
      "metadata": {
        "colab_type": "text",
        "id": "9z0TctxjB0KA"
      },
      "source": [
        "**Answer** Please type your answer here (Double click to edit)"
      ]
    },
    {
      "cell_type": "code",
      "metadata": {
        "id": "TXO0QZtS_mQ_",
        "colab_type": "code",
        "colab": {}
      },
      "source": [
        "# Task to do choose different values for batch size (minimum five different values)\n",
        "BATCH_SIZE = 128  #? Choose a value"
      ],
      "execution_count": 0,
      "outputs": []
    },
    {
      "cell_type": "code",
      "metadata": {
        "id": "ssu3rT0MBdUD",
        "colab_type": "code",
        "colab": {
          "base_uri": "https://localhost:8080/",
          "height": 1000
        },
        "outputId": "6133b7ed-39f0-4116-f620-e251a6af9d6a"
      },
      "source": [
        "model = built_model(INPUT_SHAPE,128, NB_CLASSES)\n",
        "history = model.fit(X_train, Y_train,\n",
        "\t\tbatch_size=BATCH_SIZE, epochs=50,\n",
        "\t\tverbose=1, validation_split=0.2)"
      ],
      "execution_count": 20,
      "outputs": [
        {
          "output_type": "stream",
          "text": [
            "Epoch 1/50\n",
            "375/375 [==============================] - 2s 4ms/step - loss: 1.4598 - accuracy: 0.6241 - val_loss: 0.7399 - val_accuracy: 0.8397\n",
            "Epoch 2/50\n",
            "375/375 [==============================] - 1s 4ms/step - loss: 0.5942 - accuracy: 0.8525 - val_loss: 0.4514 - val_accuracy: 0.8829\n",
            "Epoch 3/50\n",
            "375/375 [==============================] - 1s 4ms/step - loss: 0.4393 - accuracy: 0.8808 - val_loss: 0.3755 - val_accuracy: 0.8961\n",
            "Epoch 4/50\n",
            "375/375 [==============================] - 1s 4ms/step - loss: 0.3815 - accuracy: 0.8939 - val_loss: 0.3400 - val_accuracy: 0.9052\n",
            "Epoch 5/50\n",
            "375/375 [==============================] - 1s 4ms/step - loss: 0.3487 - accuracy: 0.9013 - val_loss: 0.3143 - val_accuracy: 0.9114\n",
            "Epoch 6/50\n",
            "375/375 [==============================] - 1s 4ms/step - loss: 0.3262 - accuracy: 0.9075 - val_loss: 0.2967 - val_accuracy: 0.9162\n",
            "Epoch 7/50\n",
            "375/375 [==============================] - 1s 4ms/step - loss: 0.3086 - accuracy: 0.9113 - val_loss: 0.2850 - val_accuracy: 0.9198\n",
            "Epoch 8/50\n",
            "375/375 [==============================] - 1s 4ms/step - loss: 0.2943 - accuracy: 0.9158 - val_loss: 0.2739 - val_accuracy: 0.9227\n",
            "Epoch 9/50\n",
            "375/375 [==============================] - 1s 4ms/step - loss: 0.2819 - accuracy: 0.9186 - val_loss: 0.2633 - val_accuracy: 0.9254\n",
            "Epoch 10/50\n",
            "375/375 [==============================] - 1s 4ms/step - loss: 0.2710 - accuracy: 0.9217 - val_loss: 0.2543 - val_accuracy: 0.9283\n",
            "Epoch 11/50\n",
            "375/375 [==============================] - 1s 4ms/step - loss: 0.2613 - accuracy: 0.9246 - val_loss: 0.2470 - val_accuracy: 0.9308\n",
            "Epoch 12/50\n",
            "375/375 [==============================] - 1s 4ms/step - loss: 0.2524 - accuracy: 0.9275 - val_loss: 0.2408 - val_accuracy: 0.9324\n",
            "Epoch 13/50\n",
            "375/375 [==============================] - 1s 4ms/step - loss: 0.2442 - accuracy: 0.9299 - val_loss: 0.2326 - val_accuracy: 0.9346\n",
            "Epoch 14/50\n",
            "375/375 [==============================] - 1s 4ms/step - loss: 0.2364 - accuracy: 0.9327 - val_loss: 0.2273 - val_accuracy: 0.9355\n",
            "Epoch 15/50\n",
            "375/375 [==============================] - 1s 4ms/step - loss: 0.2293 - accuracy: 0.9342 - val_loss: 0.2217 - val_accuracy: 0.9372\n",
            "Epoch 16/50\n",
            "375/375 [==============================] - 1s 4ms/step - loss: 0.2223 - accuracy: 0.9367 - val_loss: 0.2153 - val_accuracy: 0.9391\n",
            "Epoch 17/50\n",
            "375/375 [==============================] - 1s 4ms/step - loss: 0.2161 - accuracy: 0.9385 - val_loss: 0.2096 - val_accuracy: 0.9406\n",
            "Epoch 18/50\n",
            "375/375 [==============================] - 1s 4ms/step - loss: 0.2100 - accuracy: 0.9402 - val_loss: 0.2049 - val_accuracy: 0.9433\n",
            "Epoch 19/50\n",
            "375/375 [==============================] - 1s 4ms/step - loss: 0.2045 - accuracy: 0.9416 - val_loss: 0.2005 - val_accuracy: 0.9434\n",
            "Epoch 20/50\n",
            "375/375 [==============================] - 2s 4ms/step - loss: 0.1987 - accuracy: 0.9429 - val_loss: 0.1966 - val_accuracy: 0.9448\n",
            "Epoch 21/50\n",
            "375/375 [==============================] - 2s 4ms/step - loss: 0.1936 - accuracy: 0.9448 - val_loss: 0.1920 - val_accuracy: 0.9467\n",
            "Epoch 22/50\n",
            "375/375 [==============================] - 2s 4ms/step - loss: 0.1886 - accuracy: 0.9461 - val_loss: 0.1882 - val_accuracy: 0.9471\n",
            "Epoch 23/50\n",
            "375/375 [==============================] - 2s 4ms/step - loss: 0.1837 - accuracy: 0.9475 - val_loss: 0.1841 - val_accuracy: 0.9488\n",
            "Epoch 24/50\n",
            "375/375 [==============================] - 1s 4ms/step - loss: 0.1792 - accuracy: 0.9492 - val_loss: 0.1812 - val_accuracy: 0.9506\n",
            "Epoch 25/50\n",
            "375/375 [==============================] - 1s 4ms/step - loss: 0.1747 - accuracy: 0.9506 - val_loss: 0.1792 - val_accuracy: 0.9503\n",
            "Epoch 26/50\n",
            "375/375 [==============================] - 1s 4ms/step - loss: 0.1705 - accuracy: 0.9516 - val_loss: 0.1747 - val_accuracy: 0.9526\n",
            "Epoch 27/50\n",
            "375/375 [==============================] - 1s 4ms/step - loss: 0.1665 - accuracy: 0.9524 - val_loss: 0.1711 - val_accuracy: 0.9532\n",
            "Epoch 28/50\n",
            "375/375 [==============================] - 1s 4ms/step - loss: 0.1625 - accuracy: 0.9532 - val_loss: 0.1681 - val_accuracy: 0.9531\n",
            "Epoch 29/50\n",
            "375/375 [==============================] - 1s 4ms/step - loss: 0.1588 - accuracy: 0.9548 - val_loss: 0.1648 - val_accuracy: 0.9550\n",
            "Epoch 30/50\n",
            "375/375 [==============================] - 2s 4ms/step - loss: 0.1550 - accuracy: 0.9564 - val_loss: 0.1620 - val_accuracy: 0.9553\n",
            "Epoch 31/50\n",
            "375/375 [==============================] - 1s 4ms/step - loss: 0.1517 - accuracy: 0.9568 - val_loss: 0.1594 - val_accuracy: 0.9567\n",
            "Epoch 32/50\n",
            "375/375 [==============================] - 1s 4ms/step - loss: 0.1482 - accuracy: 0.9581 - val_loss: 0.1573 - val_accuracy: 0.9568\n",
            "Epoch 33/50\n",
            "375/375 [==============================] - 1s 4ms/step - loss: 0.1449 - accuracy: 0.9591 - val_loss: 0.1542 - val_accuracy: 0.9576\n",
            "Epoch 34/50\n",
            "375/375 [==============================] - 1s 4ms/step - loss: 0.1419 - accuracy: 0.9600 - val_loss: 0.1517 - val_accuracy: 0.9590\n",
            "Epoch 35/50\n",
            "375/375 [==============================] - 1s 4ms/step - loss: 0.1389 - accuracy: 0.9605 - val_loss: 0.1506 - val_accuracy: 0.9582\n",
            "Epoch 36/50\n",
            "375/375 [==============================] - 1s 4ms/step - loss: 0.1358 - accuracy: 0.9616 - val_loss: 0.1482 - val_accuracy: 0.9595\n",
            "Epoch 37/50\n",
            "375/375 [==============================] - 1s 4ms/step - loss: 0.1331 - accuracy: 0.9621 - val_loss: 0.1455 - val_accuracy: 0.9603\n",
            "Epoch 38/50\n",
            "375/375 [==============================] - 1s 4ms/step - loss: 0.1303 - accuracy: 0.9627 - val_loss: 0.1439 - val_accuracy: 0.9613\n",
            "Epoch 39/50\n",
            "375/375 [==============================] - 1s 4ms/step - loss: 0.1277 - accuracy: 0.9637 - val_loss: 0.1420 - val_accuracy: 0.9610\n",
            "Epoch 40/50\n",
            "375/375 [==============================] - 1s 4ms/step - loss: 0.1250 - accuracy: 0.9645 - val_loss: 0.1407 - val_accuracy: 0.9612\n",
            "Epoch 41/50\n",
            "375/375 [==============================] - 1s 4ms/step - loss: 0.1227 - accuracy: 0.9655 - val_loss: 0.1387 - val_accuracy: 0.9619\n",
            "Epoch 42/50\n",
            "375/375 [==============================] - 1s 4ms/step - loss: 0.1204 - accuracy: 0.9656 - val_loss: 0.1372 - val_accuracy: 0.9619\n",
            "Epoch 43/50\n",
            "375/375 [==============================] - 1s 4ms/step - loss: 0.1180 - accuracy: 0.9667 - val_loss: 0.1358 - val_accuracy: 0.9621\n",
            "Epoch 44/50\n",
            "375/375 [==============================] - 1s 4ms/step - loss: 0.1155 - accuracy: 0.9676 - val_loss: 0.1333 - val_accuracy: 0.9629\n",
            "Epoch 45/50\n",
            "375/375 [==============================] - 1s 4ms/step - loss: 0.1136 - accuracy: 0.9679 - val_loss: 0.1323 - val_accuracy: 0.9629\n",
            "Epoch 46/50\n",
            "375/375 [==============================] - 1s 4ms/step - loss: 0.1114 - accuracy: 0.9686 - val_loss: 0.1308 - val_accuracy: 0.9634\n",
            "Epoch 47/50\n",
            "375/375 [==============================] - 1s 4ms/step - loss: 0.1094 - accuracy: 0.9696 - val_loss: 0.1298 - val_accuracy: 0.9643\n",
            "Epoch 48/50\n",
            "375/375 [==============================] - 1s 4ms/step - loss: 0.1075 - accuracy: 0.9701 - val_loss: 0.1281 - val_accuracy: 0.9635\n",
            "Epoch 49/50\n",
            "375/375 [==============================] - 1s 4ms/step - loss: 0.1054 - accuracy: 0.9704 - val_loss: 0.1279 - val_accuracy: 0.9638\n",
            "Epoch 50/50\n",
            "375/375 [==============================] - 1s 4ms/step - loss: 0.1037 - accuracy: 0.9712 - val_loss: 0.1255 - val_accuracy: 0.9652\n"
          ],
          "name": "stdout"
        }
      ]
    },
    {
      "cell_type": "code",
      "metadata": {
        "id": "S1CVvMthBmWr",
        "colab_type": "code",
        "colab": {
          "base_uri": "https://localhost:8080/",
          "height": 52
        },
        "outputId": "b9e4c5d3-7920-4bef-a01d-336da1d0ee18"
      },
      "source": [
        "# Evaluate the model\n",
        "test_loss, test_acc = model.evaluate(X_test, Y_test)\n",
        "print('Test accuracy: {:.2f} %'.format(test_acc*100))"
      ],
      "execution_count": 21,
      "outputs": [
        {
          "output_type": "stream",
          "text": [
            "313/313 [==============================] - 1s 3ms/step - loss: 0.1181 - accuracy: 0.9642\n",
            "Test accuracy: 96.42 %\n"
          ],
          "name": "stdout"
        }
      ]
    },
    {
      "cell_type": "markdown",
      "metadata": {
        "colab_type": "text",
        "id": "8L802oqkCBg8"
      },
      "source": [
        "**Exercise 4:** And now we do the same with different optimizers available in TensorFlow. Change the optimizers and compare the model performance in terms of accuracy. What do you understand from this?"
      ]
    },
    {
      "cell_type": "markdown",
      "metadata": {
        "colab_type": "text",
        "id": "1M0Dx7O2CEW8"
      },
      "source": [
        "**Answer** Please type your answer here (Double click to edit)"
      ]
    },
    {
      "cell_type": "code",
      "metadata": {
        "id": "2DsZiC8CB7j5",
        "colab_type": "code",
        "colab": {}
      },
      "source": [
        "# Task to do choose different optimizers\n",
        "opt = 'SGD'  #? Choose from available optimizers"
      ],
      "execution_count": 0,
      "outputs": []
    },
    {
      "cell_type": "code",
      "metadata": {
        "id": "DkcTxGl4CqK5",
        "colab_type": "code",
        "colab": {
          "base_uri": "https://localhost:8080/",
          "height": 1000
        },
        "outputId": "2f446b67-af91-4806-fbe6-83d56f233f91"
      },
      "source": [
        "N_HIDDEN = 128\n",
        "model = built_model(INPUT_SHAPE,N_HIDDEN, NB_CLASSES, opt)\n",
        "history = model.fit(X_train, Y_train,\n",
        "\t\tbatch_size=128, epochs=50,\n",
        "\t\tverbose=1, validation_split=0.2)"
      ],
      "execution_count": 24,
      "outputs": [
        {
          "output_type": "stream",
          "text": [
            "Epoch 1/50\n",
            "375/375 [==============================] - 2s 4ms/step - loss: 1.3511 - accuracy: 0.6790 - val_loss: 0.6861 - val_accuracy: 0.8513\n",
            "Epoch 2/50\n",
            "375/375 [==============================] - 1s 4ms/step - loss: 0.5654 - accuracy: 0.8579 - val_loss: 0.4375 - val_accuracy: 0.8857\n",
            "Epoch 3/50\n",
            "375/375 [==============================] - 1s 4ms/step - loss: 0.4270 - accuracy: 0.8833 - val_loss: 0.3664 - val_accuracy: 0.8988\n",
            "Epoch 4/50\n",
            "375/375 [==============================] - 1s 4ms/step - loss: 0.3718 - accuracy: 0.8962 - val_loss: 0.3315 - val_accuracy: 0.9058\n",
            "Epoch 5/50\n",
            "375/375 [==============================] - 1s 4ms/step - loss: 0.3395 - accuracy: 0.9045 - val_loss: 0.3086 - val_accuracy: 0.9129\n",
            "Epoch 6/50\n",
            "375/375 [==============================] - 1s 4ms/step - loss: 0.3171 - accuracy: 0.9104 - val_loss: 0.2914 - val_accuracy: 0.9169\n",
            "Epoch 7/50\n",
            "375/375 [==============================] - 1s 4ms/step - loss: 0.2995 - accuracy: 0.9141 - val_loss: 0.2794 - val_accuracy: 0.9208\n",
            "Epoch 8/50\n",
            "375/375 [==============================] - 1s 4ms/step - loss: 0.2851 - accuracy: 0.9176 - val_loss: 0.2669 - val_accuracy: 0.9247\n",
            "Epoch 9/50\n",
            "375/375 [==============================] - 1s 4ms/step - loss: 0.2725 - accuracy: 0.9219 - val_loss: 0.2563 - val_accuracy: 0.9272\n",
            "Epoch 10/50\n",
            "375/375 [==============================] - 1s 4ms/step - loss: 0.2621 - accuracy: 0.9252 - val_loss: 0.2473 - val_accuracy: 0.9305\n",
            "Epoch 11/50\n",
            "375/375 [==============================] - 1s 4ms/step - loss: 0.2521 - accuracy: 0.9283 - val_loss: 0.2409 - val_accuracy: 0.9334\n",
            "Epoch 12/50\n",
            "375/375 [==============================] - 1s 4ms/step - loss: 0.2436 - accuracy: 0.9305 - val_loss: 0.2334 - val_accuracy: 0.9344\n",
            "Epoch 13/50\n",
            "375/375 [==============================] - 1s 4ms/step - loss: 0.2353 - accuracy: 0.9329 - val_loss: 0.2269 - val_accuracy: 0.9362\n",
            "Epoch 14/50\n",
            "375/375 [==============================] - 2s 4ms/step - loss: 0.2282 - accuracy: 0.9349 - val_loss: 0.2203 - val_accuracy: 0.9386\n",
            "Epoch 15/50\n",
            "375/375 [==============================] - 2s 4ms/step - loss: 0.2208 - accuracy: 0.9371 - val_loss: 0.2158 - val_accuracy: 0.9392\n",
            "Epoch 16/50\n",
            "375/375 [==============================] - 2s 4ms/step - loss: 0.2145 - accuracy: 0.9387 - val_loss: 0.2104 - val_accuracy: 0.9415\n",
            "Epoch 17/50\n",
            "375/375 [==============================] - 2s 4ms/step - loss: 0.2086 - accuracy: 0.9405 - val_loss: 0.2054 - val_accuracy: 0.9437\n",
            "Epoch 18/50\n",
            "375/375 [==============================] - 1s 4ms/step - loss: 0.2029 - accuracy: 0.9421 - val_loss: 0.2007 - val_accuracy: 0.9440\n",
            "Epoch 19/50\n",
            "375/375 [==============================] - 1s 4ms/step - loss: 0.1972 - accuracy: 0.9436 - val_loss: 0.1963 - val_accuracy: 0.9458\n",
            "Epoch 20/50\n",
            "375/375 [==============================] - 1s 4ms/step - loss: 0.1922 - accuracy: 0.9452 - val_loss: 0.1928 - val_accuracy: 0.9464\n",
            "Epoch 21/50\n",
            "375/375 [==============================] - 1s 4ms/step - loss: 0.1873 - accuracy: 0.9469 - val_loss: 0.1890 - val_accuracy: 0.9481\n",
            "Epoch 22/50\n",
            "375/375 [==============================] - 1s 4ms/step - loss: 0.1828 - accuracy: 0.9484 - val_loss: 0.1858 - val_accuracy: 0.9486\n",
            "Epoch 23/50\n",
            "375/375 [==============================] - 1s 4ms/step - loss: 0.1784 - accuracy: 0.9488 - val_loss: 0.1819 - val_accuracy: 0.9498\n",
            "Epoch 24/50\n",
            "375/375 [==============================] - 1s 4ms/step - loss: 0.1741 - accuracy: 0.9504 - val_loss: 0.1780 - val_accuracy: 0.9507\n",
            "Epoch 25/50\n",
            "375/375 [==============================] - 1s 4ms/step - loss: 0.1702 - accuracy: 0.9509 - val_loss: 0.1755 - val_accuracy: 0.9514\n",
            "Epoch 26/50\n",
            "375/375 [==============================] - 1s 4ms/step - loss: 0.1664 - accuracy: 0.9521 - val_loss: 0.1719 - val_accuracy: 0.9524\n",
            "Epoch 27/50\n",
            "375/375 [==============================] - 1s 4ms/step - loss: 0.1627 - accuracy: 0.9534 - val_loss: 0.1691 - val_accuracy: 0.9528\n",
            "Epoch 28/50\n",
            "375/375 [==============================] - 1s 4ms/step - loss: 0.1591 - accuracy: 0.9539 - val_loss: 0.1668 - val_accuracy: 0.9537\n",
            "Epoch 29/50\n",
            "375/375 [==============================] - 1s 4ms/step - loss: 0.1556 - accuracy: 0.9556 - val_loss: 0.1650 - val_accuracy: 0.9537\n",
            "Epoch 30/50\n",
            "375/375 [==============================] - 1s 4ms/step - loss: 0.1525 - accuracy: 0.9560 - val_loss: 0.1620 - val_accuracy: 0.9546\n",
            "Epoch 31/50\n",
            "375/375 [==============================] - 1s 4ms/step - loss: 0.1492 - accuracy: 0.9569 - val_loss: 0.1589 - val_accuracy: 0.9557\n",
            "Epoch 32/50\n",
            "375/375 [==============================] - 1s 4ms/step - loss: 0.1461 - accuracy: 0.9584 - val_loss: 0.1578 - val_accuracy: 0.9562\n",
            "Epoch 33/50\n",
            "375/375 [==============================] - 1s 4ms/step - loss: 0.1433 - accuracy: 0.9588 - val_loss: 0.1554 - val_accuracy: 0.9569\n",
            "Epoch 34/50\n",
            "375/375 [==============================] - 1s 4ms/step - loss: 0.1406 - accuracy: 0.9598 - val_loss: 0.1534 - val_accuracy: 0.9572\n",
            "Epoch 35/50\n",
            "375/375 [==============================] - 1s 4ms/step - loss: 0.1376 - accuracy: 0.9609 - val_loss: 0.1511 - val_accuracy: 0.9577\n",
            "Epoch 36/50\n",
            "375/375 [==============================] - 1s 4ms/step - loss: 0.1351 - accuracy: 0.9613 - val_loss: 0.1488 - val_accuracy: 0.9574\n",
            "Epoch 37/50\n",
            "375/375 [==============================] - 1s 4ms/step - loss: 0.1325 - accuracy: 0.9623 - val_loss: 0.1466 - val_accuracy: 0.9587\n",
            "Epoch 38/50\n",
            "375/375 [==============================] - 1s 4ms/step - loss: 0.1300 - accuracy: 0.9631 - val_loss: 0.1452 - val_accuracy: 0.9584\n",
            "Epoch 39/50\n",
            "375/375 [==============================] - 1s 4ms/step - loss: 0.1275 - accuracy: 0.9638 - val_loss: 0.1451 - val_accuracy: 0.9592\n",
            "Epoch 40/50\n",
            "375/375 [==============================] - 1s 4ms/step - loss: 0.1253 - accuracy: 0.9643 - val_loss: 0.1421 - val_accuracy: 0.9592\n",
            "Epoch 41/50\n",
            "375/375 [==============================] - 1s 4ms/step - loss: 0.1230 - accuracy: 0.9649 - val_loss: 0.1411 - val_accuracy: 0.9588\n",
            "Epoch 42/50\n",
            "375/375 [==============================] - 2s 4ms/step - loss: 0.1207 - accuracy: 0.9659 - val_loss: 0.1387 - val_accuracy: 0.9606\n",
            "Epoch 43/50\n",
            "375/375 [==============================] - 1s 4ms/step - loss: 0.1186 - accuracy: 0.9664 - val_loss: 0.1380 - val_accuracy: 0.9609\n",
            "Epoch 44/50\n",
            "375/375 [==============================] - 1s 4ms/step - loss: 0.1165 - accuracy: 0.9669 - val_loss: 0.1352 - val_accuracy: 0.9619\n",
            "Epoch 45/50\n",
            "375/375 [==============================] - 1s 4ms/step - loss: 0.1147 - accuracy: 0.9680 - val_loss: 0.1337 - val_accuracy: 0.9622\n",
            "Epoch 46/50\n",
            "375/375 [==============================] - 1s 4ms/step - loss: 0.1126 - accuracy: 0.9683 - val_loss: 0.1328 - val_accuracy: 0.9618\n",
            "Epoch 47/50\n",
            "375/375 [==============================] - 1s 4ms/step - loss: 0.1108 - accuracy: 0.9682 - val_loss: 0.1311 - val_accuracy: 0.9626\n",
            "Epoch 48/50\n",
            "375/375 [==============================] - 1s 4ms/step - loss: 0.1090 - accuracy: 0.9693 - val_loss: 0.1307 - val_accuracy: 0.9632\n",
            "Epoch 49/50\n",
            "375/375 [==============================] - 1s 4ms/step - loss: 0.1071 - accuracy: 0.9694 - val_loss: 0.1288 - val_accuracy: 0.9632\n",
            "Epoch 50/50\n",
            "375/375 [==============================] - 1s 4ms/step - loss: 0.1053 - accuracy: 0.9704 - val_loss: 0.1276 - val_accuracy: 0.9638\n"
          ],
          "name": "stdout"
        }
      ]
    },
    {
      "cell_type": "code",
      "metadata": {
        "id": "Ih2YDy1gCy5T",
        "colab_type": "code",
        "colab": {
          "base_uri": "https://localhost:8080/",
          "height": 52
        },
        "outputId": "10ed10e7-5238-43bf-9c03-56a5d081e638"
      },
      "source": [
        "# Evaluate the model\n",
        "test_loss, test_acc = model.evaluate(X_test, Y_test)\n",
        "print('Test accuracy: {:.2f} %'.format(test_acc*100))"
      ],
      "execution_count": 25,
      "outputs": [
        {
          "output_type": "stream",
          "text": [
            "313/313 [==============================] - 1s 3ms/step - loss: 0.1211 - accuracy: 0.9644\n",
            "Test accuracy: 96.44 %\n"
          ],
          "name": "stdout"
        }
      ]
    },
    {
      "cell_type": "markdown",
      "metadata": {
        "id": "-46TwuMnDdIB",
        "colab_type": "text"
      },
      "source": [
        "### Optional Exercise\n",
        "\n",
        "Repeat the above exercises (3-5) with different dataset. You can use Fashion MNIST another popular ML dataset. Are the results same? Comment.\n",
        "\n",
        "To download fashion mnist you can use the following code:\n",
        "\n",
        "```\n",
        "fashion_mnist = keras.datasets.fashion_mnist\n",
        "\n",
        "(X_train, Y_train), (X_test, Y_test) = fashion_mnist.load_data()\n",
        "```"
      ]
    },
    {
      "cell_type": "code",
      "metadata": {
        "id": "kqc0ID8XDLCN",
        "colab_type": "code",
        "colab": {}
      },
      "source": [
        ""
      ],
      "execution_count": 0,
      "outputs": []
    }
  ]
}
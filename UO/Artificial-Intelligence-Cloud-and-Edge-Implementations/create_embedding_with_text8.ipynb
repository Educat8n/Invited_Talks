{
  "nbformat": 4,
  "nbformat_minor": 0,
  "metadata": {
    "colab": {
      "name": "create_embedding_with_text8.ipynb",
      "provenance": [],
      "authorship_tag": "ABX9TyPcRWU26vSRWCKPaYDKyCPF",
      "include_colab_link": true
    },
    "kernelspec": {
      "name": "python3",
      "display_name": "Python 3"
    }
  },
  "cells": [
    {
      "cell_type": "markdown",
      "metadata": {
        "id": "view-in-github",
        "colab_type": "text"
      },
      "source": [
        "<a href=\"https://colab.research.google.com/github/amita-kapoor/Invited_Talks/blob/master/UO/Artificial-Intelligence-Cloud-and-Edge-Implementations/create_embedding_with_text8.ipynb\" target=\"_parent\"><img src=\"https://colab.research.google.com/assets/colab-badge.svg\" alt=\"Open In Colab\"/></a>"
      ]
    },
    {
      "cell_type": "markdown",
      "metadata": {
        "id": "JHbIwZ9p8D3C",
        "colab_type": "text"
      },
      "source": [
        "# Gensim\n",
        "\n",
        "A state of the art package for NLP"
      ]
    },
    {
      "cell_type": "markdown",
      "metadata": {
        "id": "Hvivs1Q691VL",
        "colab_type": "text"
      },
      "source": [
        "\n",
        "We will create an embedding using a small text corpus, called text8. The text8 dataset is the first 108 bytes the Large Text Compression Benchmark, which\n",
        "consists of the first 109 bytes of English Wikipedia [7]. The text8 dataset is accessible from within the gensim API as an iterable of tokens, essentially a list of tokenized sentences.\n",
        "\n",
        "[GitHub](https://github.com/PacktPublishing/Deep-Learning-with-TensorFlow-2-and-Keras/blob/master/Chapter%207/create_embedding_with_text8.py)\n",
        "\n"
      ]
    },
    {
      "cell_type": "code",
      "metadata": {
        "id": "OPI4fusV-Aa0",
        "colab_type": "code",
        "colab": {
          "base_uri": "https://localhost:8080/",
          "height": 34
        },
        "outputId": "6465aab4-1b65-403e-9139-6ce9af90873e"
      },
      "source": [
        "!mkdir data"
      ],
      "execution_count": null,
      "outputs": [
        {
          "output_type": "stream",
          "text": [
            "mkdir: cannot create directory ‘data’: File exists\n"
          ],
          "name": "stdout"
        }
      ]
    },
    {
      "cell_type": "code",
      "metadata": {
        "id": "7n7GAbaL84ur",
        "colab_type": "code",
        "colab": {
          "base_uri": "https://localhost:8080/",
          "height": 72
        },
        "outputId": "235358d2-c2b8-48c9-9ffc-575c07867866"
      },
      "source": [
        "import gensim.downloader as api\n",
        "from gensim.models import Word2Vec\n",
        "\n",
        "info = api.info(\"text8\")\n",
        "assert(len(info) > 0)\n",
        "\n",
        "dataset = api.load(\"text8\")  # download and load text 8  dataset\n",
        "model = Word2Vec(dataset) # we create an embedding using Word2vec model for this data\n",
        "\n",
        "model.save(\"data/text8-word2vec.bin\")"
      ],
      "execution_count": null,
      "outputs": [
        {
          "output_type": "stream",
          "text": [
            "/usr/local/lib/python3.6/dist-packages/smart_open/smart_open_lib.py:253: UserWarning: This function is deprecated, use smart_open.open instead. See the migration notes for details: https://github.com/RaRe-Technologies/smart_open/blob/master/README.rst#migrating-to-the-new-open-function\n",
            "  'See the migration notes for details: %s' % _MIGRATION_NOTES_URL\n"
          ],
          "name": "stderr"
        }
      ]
    },
    {
      "cell_type": "markdown",
      "metadata": {
        "id": "DbTEQOEN-UGz",
        "colab_type": "text"
      },
      "source": [
        "Let us now explore the saved model"
      ]
    },
    {
      "cell_type": "code",
      "metadata": {
        "id": "UCXjQxjtxr9r",
        "colab_type": "code",
        "colab": {}
      },
      "source": [
        "\n",
        "def print_most_similar(word_conf_pairs, k):\n",
        "    for i, (word, conf) in enumerate(word_conf_pairs):\n",
        "        print(\"{:.3f} {:s}\".format(conf, word))\n",
        "        if i >= k-1:\n",
        "            break\n",
        "    if k < len(word_conf_pairs):\n",
        "        print(\"...\")\n"
      ],
      "execution_count": null,
      "outputs": []
    },
    {
      "cell_type": "code",
      "metadata": {
        "id": "YayTi2VzpF3v",
        "colab_type": "code",
        "colab": {
          "base_uri": "https://localhost:8080/",
          "height": 89
        },
        "outputId": "bf5b333c-095e-4883-b0bd-34bef4fc2269"
      },
      "source": [
        "from gensim.models import KeyedVectors\n",
        "model = KeyedVectors.load(\"data/text8-word2vec.bin\")\n",
        "word_vectors = model.wv\n",
        "\n",
        "# get words in the vocabulary\n",
        "words = word_vectors.vocab.keys()\n",
        "print([x for i, x in enumerate(words) if i < 10])"
      ],
      "execution_count": null,
      "outputs": [
        {
          "output_type": "stream",
          "text": [
            "/usr/local/lib/python3.6/dist-packages/smart_open/smart_open_lib.py:253: UserWarning: This function is deprecated, use smart_open.open instead. See the migration notes for details: https://github.com/RaRe-Technologies/smart_open/blob/master/README.rst#migrating-to-the-new-open-function\n",
            "  'See the migration notes for details: %s' % _MIGRATION_NOTES_URL\n"
          ],
          "name": "stderr"
        },
        {
          "output_type": "stream",
          "text": [
            "['anarchism', 'originated', 'as', 'a', 'term', 'of', 'abuse', 'first', 'used', 'against']\n"
          ],
          "name": "stdout"
        }
      ]
    },
    {
      "cell_type": "code",
      "metadata": {
        "id": "UHlhV-HKxnsi",
        "colab_type": "code",
        "colab": {
          "base_uri": "https://localhost:8080/",
          "height": 193
        },
        "outputId": "4cd9e342-f1eb-4ee2-ccdf-b42f5ba94931"
      },
      "source": [
        "assert(\"king\" in words)\n",
        "\n",
        "\n",
        "print(\"# words similar to king\")\n",
        "print_most_similar(word_vectors.most_similar(\"king\"), 5)"
      ],
      "execution_count": null,
      "outputs": [
        {
          "output_type": "stream",
          "text": [
            "# words similar to king\n",
            "0.705 prince\n",
            "0.695 emperor\n",
            "0.691 queen\n",
            "0.691 throne\n",
            "0.673 kings\n",
            "...\n"
          ],
          "name": "stdout"
        },
        {
          "output_type": "stream",
          "text": [
            "/usr/local/lib/python3.6/dist-packages/gensim/matutils.py:737: FutureWarning: Conversion of the second argument of issubdtype from `int` to `np.signedinteger` is deprecated. In future, it will be treated as `np.int64 == np.dtype(int).type`.\n",
            "  if np.issubdtype(vec.dtype, np.int):\n"
          ],
          "name": "stderr"
        }
      ]
    },
    {
      "cell_type": "code",
      "metadata": {
        "id": "yPSBgxhMzB_Z",
        "colab_type": "code",
        "colab": {
          "base_uri": "https://localhost:8080/",
          "height": 193
        },
        "outputId": "357484c2-153b-4404-b11b-1844a3bc5349"
      },
      "source": [
        "model.most_similar('tree',topn=5)"
      ],
      "execution_count": null,
      "outputs": [
        {
          "output_type": "stream",
          "text": [
            "/usr/local/lib/python3.6/dist-packages/ipykernel_launcher.py:1: DeprecationWarning: Call to deprecated `most_similar` (Method will be removed in 4.0.0, use self.wv.most_similar() instead).\n",
            "  \"\"\"Entry point for launching an IPython kernel.\n",
            "/usr/local/lib/python3.6/dist-packages/gensim/matutils.py:737: FutureWarning: Conversion of the second argument of issubdtype from `int` to `np.signedinteger` is deprecated. In future, it will be treated as `np.int64 == np.dtype(int).type`.\n",
            "  if np.issubdtype(vec.dtype, np.int):\n"
          ],
          "name": "stderr"
        },
        {
          "output_type": "execute_result",
          "data": {
            "text/plain": [
              "[('trees', 0.694172203540802),\n",
              " ('bark', 0.6583034992218018),\n",
              " ('leaf', 0.6440684199333191),\n",
              " ('bird', 0.6138678789138794),\n",
              " ('flower', 0.6082985401153564)]"
            ]
          },
          "metadata": {
            "tags": []
          },
          "execution_count": 37
        }
      ]
    },
    {
      "cell_type": "code",
      "metadata": {
        "id": "_mSAxhe2xxuq",
        "colab_type": "code",
        "colab": {
          "base_uri": "https://localhost:8080/",
          "height": 193
        },
        "outputId": "9efe30c2-1b6b-4cf4-9210-b159e059a3e4"
      },
      "source": [
        "assert(\"saint\" in words)\n",
        "\n",
        "\n",
        "print(\"# words similar to king\")\n",
        "print_most_similar(word_vectors.most_similar(\"tree\"), 5)"
      ],
      "execution_count": null,
      "outputs": [
        {
          "output_type": "stream",
          "text": [
            "# words similar to king\n",
            "0.694 trees\n",
            "0.658 bark\n",
            "0.644 leaf\n",
            "0.614 bird\n",
            "0.608 flower\n",
            "...\n"
          ],
          "name": "stdout"
        },
        {
          "output_type": "stream",
          "text": [
            "/usr/local/lib/python3.6/dist-packages/gensim/matutils.py:737: FutureWarning: Conversion of the second argument of issubdtype from `int` to `np.signedinteger` is deprecated. In future, it will be treated as `np.int64 == np.dtype(int).type`.\n",
            "  if np.issubdtype(vec.dtype, np.int):\n"
          ],
          "name": "stderr"
        }
      ]
    },
    {
      "cell_type": "code",
      "metadata": {
        "id": "hvQbCMG4IFVE",
        "colab_type": "code",
        "colab": {
          "base_uri": "https://localhost:8080/",
          "height": 141
        },
        "outputId": "48452ab3-6578-49e7-dbb7-2067bd75a11e"
      },
      "source": [
        "print(\"# vector arithmetic with words (cosine similarity)\")\n",
        "print(\"# france + berlin - paris = ?\")\n",
        "print_most_similar(word_vectors.most_similar(\n",
        "    positive=[\"france\", \"berlin\"], negative=[\"paris\"]), 1)\n"
      ],
      "execution_count": null,
      "outputs": [
        {
          "output_type": "stream",
          "text": [
            "# vector arithmetic with words (cosine similarity)\n",
            "# france + berlin - paris = ?\n",
            "0.787 germany\n",
            "...\n"
          ],
          "name": "stdout"
        },
        {
          "output_type": "stream",
          "text": [
            "/usr/local/lib/python3.6/dist-packages/gensim/matutils.py:737: FutureWarning: Conversion of the second argument of issubdtype from `int` to `np.signedinteger` is deprecated. In future, it will be treated as `np.int64 == np.dtype(int).type`.\n",
            "  if np.issubdtype(vec.dtype, np.int):\n"
          ],
          "name": "stderr"
        }
      ]
    },
    {
      "cell_type": "code",
      "metadata": {
        "id": "62OyW7tUIYC7",
        "colab_type": "code",
        "colab": {
          "base_uri": "https://localhost:8080/",
          "height": 141
        },
        "outputId": "691a217e-704c-435e-97f7-96059c36f031"
      },
      "source": [
        "print(\"# vector arithmetic with words (cosine similarity)\")\n",
        "print(\"# france + berlin - paris = ?\")\n",
        "print_most_similar(word_vectors.most_similar(\n",
        "    positive=[\"apple\", \"pear\"], negative=[\"orange\"]), 1)"
      ],
      "execution_count": null,
      "outputs": [
        {
          "output_type": "stream",
          "text": [
            "# vector arithmetic with words (cosine similarity)\n",
            "# france + berlin - paris = ?\n",
            "0.629 macintosh\n",
            "...\n"
          ],
          "name": "stdout"
        },
        {
          "output_type": "stream",
          "text": [
            "/usr/local/lib/python3.6/dist-packages/gensim/matutils.py:737: FutureWarning: Conversion of the second argument of issubdtype from `int` to `np.signedinteger` is deprecated. In future, it will be treated as `np.int64 == np.dtype(int).type`.\n",
            "  if np.issubdtype(vec.dtype, np.int):\n"
          ],
          "name": "stderr"
        }
      ]
    },
    {
      "cell_type": "code",
      "metadata": {
        "id": "7jI2Bf_M89Yq",
        "colab_type": "code",
        "colab": {
          "base_uri": "https://localhost:8080/",
          "height": 784
        },
        "outputId": "732fe443-107b-4132-8c13-b25f80afde3f"
      },
      "source": [
        "print(\"# words similar to king\")\n",
        "print_most_similar(word_vectors.most_similar(\"king\"), 5)\n",
        "\n",
        "print(\"# vector arithmetic with words (cosine similarity)\")\n",
        "print(\"# france + berlin - paris = ?\")\n",
        "print_most_similar(word_vectors.most_similar(\n",
        "    positive=[\"france\", \"berlin\"], negative=[\"paris\"]), 1\n",
        ")\n",
        "\n",
        "print(\"# vector arithmetic with words (Levy and Goldberg)\")\n",
        "print(\"# france + berlin - paris = ?\")\n",
        "print_most_similar(word_vectors.most_similar_cosmul(\n",
        "    positive=[\"france\", \"berlin\"], negative=[\"paris\"]), 1\n",
        ")\n",
        "\n",
        "print(\"# find odd one out\")\n",
        "print(\"# [hindus, parsis, singapore, christians]\")\n",
        "print(word_vectors.doesnt_match([\"hindus\", \"parsis\", \n",
        "    \"singapore\", \"christians\"]))\n",
        "\n",
        "print(\"# similarity between words\")\n",
        "for word in [\"woman\", \"dog\", \"whale\", \"tree\"]:\n",
        "    print(\"similarity({:s}, {:s}) = {:.3f}\".format(\n",
        "        \"man\", word,\n",
        "        word_vectors.similarity(\"man\", word)\n",
        "    ))\n",
        "\n",
        "print(\"# similar by word\")\n",
        "print(print_most_similar(\n",
        "    word_vectors.similar_by_word(\"singapore\"), 5)\n",
        ")\n",
        "\n",
        "print(\"# distance between vectors\")\n",
        "print(\"distance(singapore, malaysia) = {:.3f}\".format(\n",
        "    word_vectors.distance(\"singapore\", \"malaysia\")\n",
        "))\n",
        "\n",
        "vec_song = word_vectors[\"song\"]\n",
        "print(\"\\n# output vector obtained directly, shape:\", vec_song.shape)\n",
        "\n",
        "vec_song_2 = word_vectors.word_vec(\"song\", use_norm=True)\n",
        "print(\"# output vector obtained using word_vec, shape:\", vec_song_2.shape)"
      ],
      "execution_count": null,
      "outputs": [
        {
          "output_type": "stream",
          "text": [
            "/usr/local/lib/python3.6/dist-packages/smart_open/smart_open_lib.py:253: UserWarning: This function is deprecated, use smart_open.open instead. See the migration notes for details: https://github.com/RaRe-Technologies/smart_open/blob/master/README.rst#migrating-to-the-new-open-function\n",
            "  'See the migration notes for details: %s' % _MIGRATION_NOTES_URL\n"
          ],
          "name": "stderr"
        },
        {
          "output_type": "stream",
          "text": [
            "['anarchism', 'originated', 'as', 'a', 'term', 'of', 'abuse', 'first', 'used', 'against']\n",
            "# words similar to king\n",
            "0.738 queen\n",
            "0.732 prince\n",
            "0.713 emperor\n",
            "0.699 kings\n",
            "0.686 throne\n",
            "...\n",
            "# vector arithmetic with words (cosine similarity)\n",
            "# france + berlin - paris = ?\n",
            "0.796 germany\n",
            "...\n",
            "# vector arithmetic with words (Levy and Goldberg)\n",
            "# france + berlin - paris = ?\n",
            "0.929 germany\n",
            "...\n",
            "# find odd one out\n",
            "# [hindus, parsis, singapore, christians]\n",
            "singapore\n",
            "# similarity between words\n",
            "similarity(man, woman) = 0.741\n",
            "similarity(man, dog) = 0.442\n",
            "similarity(man, whale) = 0.262\n",
            "similarity(man, tree) = 0.255\n",
            "# similar by word\n",
            "0.865 malaysia\n",
            "0.827 indonesia\n",
            "0.826 uganda\n",
            "0.821 tanzania\n",
            "0.819 zimbabwe\n",
            "...\n",
            "None\n",
            "# distance between vectors\n",
            "distance(singapore, malaysia) = 0.135\n",
            "\n",
            "# output vector obtained directly, shape: (100,)\n",
            "# output vector obtained using word_vec, shape: (100,)\n"
          ],
          "name": "stdout"
        },
        {
          "output_type": "stream",
          "text": [
            "/usr/local/lib/python3.6/dist-packages/gensim/matutils.py:737: FutureWarning: Conversion of the second argument of issubdtype from `int` to `np.signedinteger` is deprecated. In future, it will be treated as `np.int64 == np.dtype(int).type`.\n",
            "  if np.issubdtype(vec.dtype, np.int):\n",
            "/usr/local/lib/python3.6/dist-packages/gensim/models/keyedvectors.py:895: FutureWarning: arrays to stack must be passed as a \"sequence\" type such as list or tuple. Support for non-sequence iterables such as generators is deprecated as of NumPy 1.16 and will raise an error in the future.\n",
            "  vectors = vstack(self.word_vec(word, use_norm=True) for word in used_words).astype(REAL)\n"
          ],
          "name": "stderr"
        }
      ]
    },
    {
      "cell_type": "code",
      "metadata": {
        "id": "5s8yd58N-9Ny",
        "colab_type": "code",
        "colab": {}
      },
      "source": [
        ""
      ],
      "execution_count": null,
      "outputs": []
    }
  ]
}